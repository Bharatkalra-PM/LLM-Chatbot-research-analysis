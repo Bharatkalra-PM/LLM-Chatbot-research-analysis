{
 "cells": [
  {
   "cell_type": "code",
   "execution_count": 75,
   "id": "912fded5",
   "metadata": {},
   "outputs": [],
   "source": [
    "from langchain.document_loaders import TextLoader"
   ]
  },
  {
   "cell_type": "code",
   "execution_count": 16,
   "id": "eed1bd27",
   "metadata": {},
   "outputs": [
    {
     "data": {
      "text/plain": [
       "[Document(page_content=\"Fireside Ventures, the venture capital (VC) firm that backs consumer startups, reaped massive benefits from its investments in Mamaearth, the first-ever company to go for an initial public offering (IPO) from its portfolio. In total, Fireside invested around Rs 30 crore in Mamaearth and made over Rs 550 crore in returns as it diluted its stake for the offer-for-sale (OFS) component.\\n\\nIn another transaction, days later, it sold more shares and booked a massive 4,500 percent profit on its investment in Honasa Consumer, Mamaearth’s parent company. Fireside had paid Rs 7.33 for each share in Mamaearth, and the company’s share price closed the last trading session at Rs 436.15 apiece on December 26, signalling more upside for the VC firm as it still holds around 5 percent in Mamaearth.\\n\\nSo, what worked for the Bengaluru-based investor? We caught up with Dipanjan Basu, co-founder and partner, Fireside Ventures, who said the VC firm identifies and invests in companies that align with what public market investors reward later. Fireside ensures portfolio companies have a head of finance/chief financial officer from the early days, the investor even employs a person within the VC firm who oversees people functions at its portfolio companies.\\n\\nSpeaking on the recent corporate governance lapses that have cropped up within the wider startup ecosystem, Basu said, “While the tactical answer is that there could have been financial fraud, the eventual answer is different.”\\n\\n“There is not enough delegation, not enough people who have the right voices and there are no systems to call out red flags as and when they appear. A bulk of this happens because there is too much power in the founders’ hands. These are classic organisational issues, which then manifest into a financial issue. But actually, it's a people problem,” he added.\\n\\nYou May Like\\nUnsold Luxury Watch In India Are Sold For Almost Nothing!\\nLuxury Watches For Free - search ads\\n  by Taboola Sponsored Links \\nRELATED STORIES\\nVandalism over English name boards in Bengaluru raises concern  Vandalism over English name boards in Bengaluru raises concern \\nSoftBank-backed Meesho losses halved to Rs 1,675 cr in FY23, revenue grew 77% to Rs 5,735 cr  SoftBank-backed Meesho losses halved to Rs 1,675 cr in FY23, revenue grew 77% to Rs 5,735 cr \\nFirstCry IPO: Offer size, financial report card, risk factors and other key takeaways  FirstCry IPO: Offer size, financial report card, risk factors and other key takeaways \\nTo mitigate the risk of such instances at portfolio companies, Fireside ensures there is at least one independent director on the board of the startup.\\n\\nAt the same time, Fireside roped in Nandika Pradeep, a former InMobi employee, who now oversees the people operations at several portfolio companies, thus ensuring better discipline at startups.\\n\\n“For IPO-bound companies, the building blocks are really no different than any other company. But then when you see that potential, then you start doubling down. Within Fireside, we have also created a programme, the Rs 100-crore to Rs 500-crore programme. These are companies that have crossed Rs 100 crore in revenue and are now aiming for the Rs 500-crore mark. The team, led by Kannan Sitaram Co-founder and Partner Fireside Ventures, identifies various values like brand building, customer retention, omnichannel, people, governance and environmental social governance (ESG) across our companies,” Basu said.\\n\\n“For Fireside, it is founder-first and planet-first. For tough decisions, we will always listen to the founders first…especially when the company is not doing well,” Basu said.\\n\\nHe added that Pipa Bella, a jewellery brand that was sold to Nykaa did not yield desired returns for Fireside Ventures but is now growing well under Nykaa’s umbrella. Given its relation with Pipa Bella’s founder Shuchi Pandya, the investor now works alongside Pandya at Fireside Ventures.\\n\\nIncluding Pandya, Fireside has a total of about 27 members who back founders building consumer companies.\\n\\nWithin Fireside, unlike several other VC firms, the partners keep switching between roles at companies, Basu said. “I may be involved with one company but also look at another partner and say, ‘Hey, you might be a better fit in this company at this stage. So, you are a better person to lead it.’ That is unlike what happens at several other VC firms,” he said.\\n\\n“So, nobody's compensation or anything is linked to their one particular deal. That way, there is a more holistic approach where we make an institution which does not depend on one person,” Basu added.\\n\\nFireside, on average invests around Rs 80 crore in a single transaction, with some room to go up to Rs 100 crore in certain cases. It takes a board seat in each of the companies it backs, as it generally picks up about a 20 percent stake in the company.\\n\\nIn the six years of its existence, it has backed 39 companies including Boat, The Sleep Company, Slay Coffee, Nat Habit and several others.\\n\\nInvestment plans going forward\\n\\nAccording to Basu from Fireside, the base of internet/smartphone users in India will double from 200 million to 400 million in three years as more non-metro users switch from feature phones. Based on those predictions, it will identify companies that fall in one of three categories. Internally, Fireside has divided the Indian market into three units: India 1, 2 and 3.\\n\\nFamilies that earn more than Rs 20 lakh per year fall under India 1. Consumers from this cohort are constantly looking for products that are innovative and solving a problem not solved before. India 1 consumers prefer an omnichannel business model and are more health conscious. YogaBar, which got sold to ITC, is an example that caters to this group, Basu said.\\n\\nIndia 2 consumers are those who have an annual income of Rs 5-20 lakh and are the “middle India” population. This cohort is very aspirational and is very online heavy. A bulk of the Gen Z population falls in this category, per Fireside.\\n\\nBrands like Zudio, Pilgrim, a beauty company backed by Fireside and others fall in this category, largely because of their price points. Tata-owned Zudio competes with Zara and H&M but is priced lower.\\n\\nIndia 3 is very similar to India 2 in terms of spending capacity but is largely the rural group which is coming online for the first time. These are consumers who are actively moving from unbranded to branded and unorganised to organised with their purchases.\\n\\n“The new generation today doesn’t want to open a packet of chips that is sealed in a plain plastic cover. They’ll look for a branded product because then the others around them will ask where the chips came from and who manufactured it. People go looking for these packets later,” Basu said.\\n\\n“But, remember these brands cannot be expensive, otherwise consumption will not happen. They need to have the right price point, the correct ticket size, etc,” he added.\\n\\nIn October 2022, Fireside Ventures raised its third and largest-ever fund at $225 million. The VC firm manages around Rs 3,000 crore in capital and will invest in companies that cater to Gen Zs, startups that solve in the femtech space (branch of healthtech), and other D2C startups going forward.\\n\\n\\nInvite your friends and family to sign up for MC Tech 3, our daily newsletter that breaks down the biggest tech and startup stories of the day\\nYour Email ID\\nTUSHAR GOENKA\\nTAGS: #Dipanjan Basu #Fireside Ventures #funding #MamaEarth #startups\\nFIRST PUBLISHED: DEC 27, 2023 07:52 AM\\nCheck Free Credit Score on Moneycontrol: Easily track y\", metadata={'source': 'Moneycontrol_news.txt'})]"
      ]
     },
     "execution_count": 16,
     "metadata": {},
     "output_type": "execute_result"
    }
   ],
   "source": [
    "loader = TextLoader('Moneycontrol_news.txt', encoding='utf8')\n",
    "data   = loader.load()\n",
    "data"
   ]
  },
  {
   "cell_type": "code",
   "execution_count": 17,
   "id": "d3e74818",
   "metadata": {},
   "outputs": [
    {
     "data": {
      "text/plain": [
       "\"Fireside Ventures, the venture capital (VC) firm that backs consumer startups, reaped massive benefits from its investments in Mamaearth, the first-ever company to go for an initial public offering (IPO) from its portfolio. In total, Fireside invested around Rs 30 crore in Mamaearth and made over Rs 550 crore in returns as it diluted its stake for the offer-for-sale (OFS) component.\\n\\nIn another transaction, days later, it sold more shares and booked a massive 4,500 percent profit on its investment in Honasa Consumer, Mamaearth’s parent company. Fireside had paid Rs 7.33 for each share in Mamaearth, and the company’s share price closed the last trading session at Rs 436.15 apiece on December 26, signalling more upside for the VC firm as it still holds around 5 percent in Mamaearth.\\n\\nSo, what worked for the Bengaluru-based investor? We caught up with Dipanjan Basu, co-founder and partner, Fireside Ventures, who said the VC firm identifies and invests in companies that align with what public market investors reward later. Fireside ensures portfolio companies have a head of finance/chief financial officer from the early days, the investor even employs a person within the VC firm who oversees people functions at its portfolio companies.\\n\\nSpeaking on the recent corporate governance lapses that have cropped up within the wider startup ecosystem, Basu said, “While the tactical answer is that there could have been financial fraud, the eventual answer is different.”\\n\\n“There is not enough delegation, not enough people who have the right voices and there are no systems to call out red flags as and when they appear. A bulk of this happens because there is too much power in the founders’ hands. These are classic organisational issues, which then manifest into a financial issue. But actually, it's a people problem,” he added.\\n\\nYou May Like\\nUnsold Luxury Watch In India Are Sold For Almost Nothing!\\nLuxury Watches For Free - search ads\\n  by Taboola Sponsored Links \\nRELATED STORIES\\nVandalism over English name boards in Bengaluru raises concern  Vandalism over English name boards in Bengaluru raises concern \\nSoftBank-backed Meesho losses halved to Rs 1,675 cr in FY23, revenue grew 77% to Rs 5,735 cr  SoftBank-backed Meesho losses halved to Rs 1,675 cr in FY23, revenue grew 77% to Rs 5,735 cr \\nFirstCry IPO: Offer size, financial report card, risk factors and other key takeaways  FirstCry IPO: Offer size, financial report card, risk factors and other key takeaways \\nTo mitigate the risk of such instances at portfolio companies, Fireside ensures there is at least one independent director on the board of the startup.\\n\\nAt the same time, Fireside roped in Nandika Pradeep, a former InMobi employee, who now oversees the people operations at several portfolio companies, thus ensuring better discipline at startups.\\n\\n“For IPO-bound companies, the building blocks are really no different than any other company. But then when you see that potential, then you start doubling down. Within Fireside, we have also created a programme, the Rs 100-crore to Rs 500-crore programme. These are companies that have crossed Rs 100 crore in revenue and are now aiming for the Rs 500-crore mark. The team, led by Kannan Sitaram Co-founder and Partner Fireside Ventures, identifies various values like brand building, customer retention, omnichannel, people, governance and environmental social governance (ESG) across our companies,” Basu said.\\n\\n“For Fireside, it is founder-first and planet-first. For tough decisions, we will always listen to the founders first…especially when the company is not doing well,” Basu said.\\n\\nHe added that Pipa Bella, a jewellery brand that was sold to Nykaa did not yield desired returns for Fireside Ventures but is now growing well under Nykaa’s umbrella. Given its relation with Pipa Bella’s founder Shuchi Pandya, the investor now works alongside Pandya at Fireside Ventures.\\n\\nIncluding Pandya, Fireside has a total of about 27 members who back founders building consumer companies.\\n\\nWithin Fireside, unlike several other VC firms, the partners keep switching between roles at companies, Basu said. “I may be involved with one company but also look at another partner and say, ‘Hey, you might be a better fit in this company at this stage. So, you are a better person to lead it.’ That is unlike what happens at several other VC firms,” he said.\\n\\n“So, nobody's compensation or anything is linked to their one particular deal. That way, there is a more holistic approach where we make an institution which does not depend on one person,” Basu added.\\n\\nFireside, on average invests around Rs 80 crore in a single transaction, with some room to go up to Rs 100 crore in certain cases. It takes a board seat in each of the companies it backs, as it generally picks up about a 20 percent stake in the company.\\n\\nIn the six years of its existence, it has backed 39 companies including Boat, The Sleep Company, Slay Coffee, Nat Habit and several others.\\n\\nInvestment plans going forward\\n\\nAccording to Basu from Fireside, the base of internet/smartphone users in India will double from 200 million to 400 million in three years as more non-metro users switch from feature phones. Based on those predictions, it will identify companies that fall in one of three categories. Internally, Fireside has divided the Indian market into three units: India 1, 2 and 3.\\n\\nFamilies that earn more than Rs 20 lakh per year fall under India 1. Consumers from this cohort are constantly looking for products that are innovative and solving a problem not solved before. India 1 consumers prefer an omnichannel business model and are more health conscious. YogaBar, which got sold to ITC, is an example that caters to this group, Basu said.\\n\\nIndia 2 consumers are those who have an annual income of Rs 5-20 lakh and are the “middle India” population. This cohort is very aspirational and is very online heavy. A bulk of the Gen Z population falls in this category, per Fireside.\\n\\nBrands like Zudio, Pilgrim, a beauty company backed by Fireside and others fall in this category, largely because of their price points. Tata-owned Zudio competes with Zara and H&M but is priced lower.\\n\\nIndia 3 is very similar to India 2 in terms of spending capacity but is largely the rural group which is coming online for the first time. These are consumers who are actively moving from unbranded to branded and unorganised to organised with their purchases.\\n\\n“The new generation today doesn’t want to open a packet of chips that is sealed in a plain plastic cover. They’ll look for a branded product because then the others around them will ask where the chips came from and who manufactured it. People go looking for these packets later,” Basu said.\\n\\n“But, remember these brands cannot be expensive, otherwise consumption will not happen. They need to have the right price point, the correct ticket size, etc,” he added.\\n\\nIn October 2022, Fireside Ventures raised its third and largest-ever fund at $225 million. The VC firm manages around Rs 3,000 crore in capital and will invest in companies that cater to Gen Zs, startups that solve in the femtech space (branch of healthtech), and other D2C startups going forward.\\n\\n\\nInvite your friends and family to sign up for MC Tech 3, our daily newsletter that breaks down the biggest tech and startup stories of the day\\nYour Email ID\\nTUSHAR GOENKA\\nTAGS: #Dipanjan Basu #Fireside Ventures #funding #MamaEarth #startups\\nFIRST PUBLISHED: DEC 27, 2023 07:52 AM\\nCheck Free Credit Score on Moneycontrol: Easily track y\""
      ]
     },
     "execution_count": 17,
     "metadata": {},
     "output_type": "execute_result"
    }
   ],
   "source": [
    "data[0].page_content"
   ]
  },
  {
   "cell_type": "code",
   "execution_count": 18,
   "id": "ee147025",
   "metadata": {},
   "outputs": [
    {
     "data": {
      "text/plain": [
       "{'source': 'Moneycontrol_news.txt'}"
      ]
     },
     "execution_count": 18,
     "metadata": {},
     "output_type": "execute_result"
    }
   ],
   "source": [
    "data[0].metadata"
   ]
  },
  {
   "cell_type": "code",
   "execution_count": 28,
   "id": "9f9a1188",
   "metadata": {},
   "outputs": [
    {
     "data": {
      "text/plain": [
       "9"
      ]
     },
     "execution_count": 28,
     "metadata": {},
     "output_type": "execute_result"
    }
   ],
   "source": [
    "from langchain.document_loaders.csv_loader import CSVLoader\n",
    "\n",
    "loader = CSVLoader('movies.csv',source_column='title')\n",
    "data = loader.load()\n",
    "len(data)"
   ]
  },
  {
   "cell_type": "code",
   "execution_count": 29,
   "id": "41464e70",
   "metadata": {},
   "outputs": [
    {
     "data": {
      "text/plain": [
       "Document(page_content='movie_id: 101\\ntitle: K.G.F: Chapter 2\\nindustry: Bollywood\\nrelease_year: 2022\\nimdb_rating: 8.4\\nstudio: Hombale Films\\nlanguage_id: 3\\nbudget: 1\\nrevenue: 12.5\\nunit: Billions\\ncurrency: INR', metadata={'source': 'K.G.F: Chapter 2', 'row': 0})"
      ]
     },
     "execution_count": 29,
     "metadata": {},
     "output_type": "execute_result"
    }
   ],
   "source": [
    "data[0]"
   ]
  },
  {
   "cell_type": "code",
   "execution_count": 30,
   "id": "8de1a36f",
   "metadata": {},
   "outputs": [
    {
     "data": {
      "text/plain": [
       "langchain_core.documents.base.Document"
      ]
     },
     "execution_count": 30,
     "metadata": {},
     "output_type": "execute_result"
    }
   ],
   "source": [
    "type(data[0])"
   ]
  },
  {
   "cell_type": "code",
   "execution_count": 31,
   "id": "50437b91",
   "metadata": {},
   "outputs": [
    {
     "data": {
      "text/plain": [
       "[Document(page_content='movie_id: 101\\ntitle: K.G.F: Chapter 2\\nindustry: Bollywood\\nrelease_year: 2022\\nimdb_rating: 8.4\\nstudio: Hombale Films\\nlanguage_id: 3\\nbudget: 1\\nrevenue: 12.5\\nunit: Billions\\ncurrency: INR', metadata={'source': 'K.G.F: Chapter 2', 'row': 0}),\n",
       " Document(page_content='movie_id: 102\\ntitle: Doctor Strange in the Multiverse of Madness\\nindustry: Hollywood\\nrelease_year: 2022\\nimdb_rating: 7\\nstudio: Marvel Studios\\nlanguage_id: 5\\nbudget: 200\\nrevenue: 954.8\\nunit: Millions\\ncurrency: USD', metadata={'source': 'Doctor Strange in the Multiverse of Madness', 'row': 1}),\n",
       " Document(page_content='movie_id: 103\\ntitle: Thor: The Dark World\\nindustry: Hollywood\\nrelease_year: 2013\\nimdb_rating: 6.8\\nstudio: Marvel Studios\\nlanguage_id: 5\\nbudget: 165\\nrevenue: 644.8\\nunit: Millions\\ncurrency: USD', metadata={'source': 'Thor: The Dark World', 'row': 2}),\n",
       " Document(page_content='movie_id: 104\\ntitle: Thor: Ragnarok\\nindustry: Hollywood\\nrelease_year: 2017\\nimdb_rating: 7.9\\nstudio: Marvel Studios\\nlanguage_id: 5\\nbudget: 180\\nrevenue: 854\\nunit: Millions\\ncurrency: USD', metadata={'source': 'Thor: Ragnarok', 'row': 3}),\n",
       " Document(page_content='movie_id: 105\\ntitle: Thor: Love and Thunder\\nindustry: Hollywood\\nrelease_year: 2022\\nimdb_rating: 6.8\\nstudio: Marvel Studios\\nlanguage_id: 5\\nbudget: 250\\nrevenue: 670\\nunit: Millions\\ncurrency: USD', metadata={'source': 'Thor: Love and Thunder', 'row': 4}),\n",
       " Document(page_content='movie_id: 106\\ntitle: Sholay\\nindustry: Bollywood\\nrelease_year: 1975\\nimdb_rating: 8.1\\nstudio: United Producers\\nlanguage_id: 1\\nbudget: Not Available\\nrevenue: Not Available\\nunit: Not Available\\ncurrency: Not Available', metadata={'source': 'Sholay', 'row': 5}),\n",
       " Document(page_content='movie_id: 107\\ntitle: Dilwale Dulhania Le Jayenge\\nindustry: Bollywood\\nrelease_year: 1995\\nimdb_rating: 8\\nstudio: Yash Raj Films\\nlanguage_id: 1\\nbudget: 400\\nrevenue: 2000\\nunit: Millions\\ncurrency: INR', metadata={'source': 'Dilwale Dulhania Le Jayenge', 'row': 6}),\n",
       " Document(page_content='movie_id: 108\\ntitle: 3 Idiots\\nindustry: Bollywood\\nrelease_year: 2009\\nimdb_rating: 8.4\\nstudio: Vinod Chopra Films\\nlanguage_id: 1\\nbudget: 550\\nrevenue: 4000\\nunit: Millions\\ncurrency: INR', metadata={'source': '3 Idiots', 'row': 7}),\n",
       " Document(page_content='movie_id: 109\\ntitle: Kabhi Khushi Kabhie Gham\\nindustry: Bollywood\\nrelease_year: 2001\\nimdb_rating: 7.4\\nstudio: Dharma Productions\\nlanguage_id: 1\\nbudget: 390\\nrevenue: 1360\\nunit: Millions\\ncurrency: INR', metadata={'source': 'Kabhi Khushi Kabhie Gham', 'row': 8})]"
      ]
     },
     "execution_count": 31,
     "metadata": {},
     "output_type": "execute_result"
    }
   ],
   "source": [
    "data"
   ]
  },
  {
   "cell_type": "code",
   "execution_count": 32,
   "id": "96109ff9",
   "metadata": {},
   "outputs": [
    {
     "data": {
      "text/plain": [
       "'movie_id: 101\\ntitle: K.G.F: Chapter 2\\nindustry: Bollywood\\nrelease_year: 2022\\nimdb_rating: 8.4\\nstudio: Hombale Films\\nlanguage_id: 3\\nbudget: 1\\nrevenue: 12.5\\nunit: Billions\\ncurrency: INR'"
      ]
     },
     "execution_count": 32,
     "metadata": {},
     "output_type": "execute_result"
    }
   ],
   "source": [
    "data[0].page_content"
   ]
  },
  {
   "cell_type": "code",
   "execution_count": 33,
   "id": "e70bb1b7",
   "metadata": {},
   "outputs": [
    {
     "data": {
      "text/plain": [
       "{'source': 'K.G.F: Chapter 2', 'row': 0}"
      ]
     },
     "execution_count": 33,
     "metadata": {},
     "output_type": "execute_result"
    }
   ],
   "source": [
    "data[0].metadata"
   ]
  },
  {
   "cell_type": "code",
   "execution_count": 34,
   "id": "ababa53b",
   "metadata": {},
   "outputs": [
    {
     "data": {
      "text/plain": [
       "{'source': 'Doctor Strange in the Multiverse of Madness', 'row': 1}"
      ]
     },
     "execution_count": 34,
     "metadata": {},
     "output_type": "execute_result"
    }
   ],
   "source": [
    "data[1].metadata"
   ]
  },
  {
   "cell_type": "code",
   "execution_count": 35,
   "id": "c55e5a57",
   "metadata": {},
   "outputs": [
    {
     "data": {
      "text/plain": [
       "{'source': 'Thor: The Dark World', 'row': 2}"
      ]
     },
     "execution_count": 35,
     "metadata": {},
     "output_type": "execute_result"
    }
   ],
   "source": [
    "data[2].metadata"
   ]
  },
  {
   "cell_type": "code",
   "execution_count": null,
   "id": "bdded8c1",
   "metadata": {},
   "outputs": [],
   "source": []
  },
  {
   "cell_type": "markdown",
   "id": "786c81fa",
   "metadata": {},
   "source": [
    "<h4> UnstructuredURLLoader </h4>\n",
    "\n",
    "UnstructuredURLLoader of Langchain internally uses unstructured python library to load the content from url's"
   ]
  },
  {
   "cell_type": "code",
   "execution_count": null,
   "id": "d5da9c82",
   "metadata": {},
   "outputs": [],
   "source": []
  },
  {
   "cell_type": "code",
   "execution_count": 76,
   "id": "30bfd157",
   "metadata": {},
   "outputs": [
    {
     "name": "stdout",
     "output_type": "stream",
     "text": [
      "Requirement already satisfied: unstructured in c:\\users\\bhara\\anaconda3\\lib\\site-packages (0.11.6)\n",
      "Requirement already satisfied: libmagic in c:\\users\\bhara\\anaconda3\\lib\\site-packages (1.0)\n",
      "Requirement already satisfied: python-magic in c:\\users\\bhara\\anaconda3\\lib\\site-packages (0.4.27)\n",
      "Requirement already satisfied: python-magic-bin in c:\\users\\bhara\\anaconda3\\lib\\site-packages (0.4.14)\n",
      "Requirement already satisfied: beautifulsoup4 in c:\\users\\bhara\\anaconda3\\lib\\site-packages (from unstructured) (4.11.1)\n",
      "Requirement already satisfied: filetype in c:\\users\\bhara\\anaconda3\\lib\\site-packages (from unstructured) (1.2.0)\n",
      "Requirement already satisfied: langdetect in c:\\users\\bhara\\anaconda3\\lib\\site-packages (from unstructured) (1.0.9)\n",
      "Requirement already satisfied: wrapt in c:\\users\\bhara\\anaconda3\\lib\\site-packages (from unstructured) (1.14.1)\n",
      "Requirement already satisfied: emoji in c:\\users\\bhara\\anaconda3\\lib\\site-packages (from unstructured) (2.9.0)\n",
      "Requirement already satisfied: backoff in c:\\users\\bhara\\anaconda3\\lib\\site-packages (from unstructured) (2.2.1)\n",
      "Requirement already satisfied: numpy in c:\\users\\bhara\\anaconda3\\lib\\site-packages (from unstructured) (1.23.5)\n",
      "Requirement already satisfied: dataclasses-json in c:\\users\\bhara\\anaconda3\\lib\\site-packages (from unstructured) (0.6.3)\n",
      "Requirement already satisfied: python-iso639 in c:\\users\\bhara\\anaconda3\\lib\\site-packages (from unstructured) (2023.12.11)\n",
      "Requirement already satisfied: nltk in c:\\users\\bhara\\anaconda3\\lib\\site-packages (from unstructured) (3.7)\n",
      "Requirement already satisfied: unstructured-client in c:\\users\\bhara\\anaconda3\\lib\\site-packages (from unstructured) (0.8.1)\n",
      "Requirement already satisfied: typing-extensions in c:\\users\\bhara\\anaconda3\\lib\\site-packages (from unstructured) (4.9.0)\n",
      "Requirement already satisfied: chardet in c:\\users\\bhara\\anaconda3\\lib\\site-packages (from unstructured) (4.0.0)\n",
      "Requirement already satisfied: lxml in c:\\users\\bhara\\anaconda3\\lib\\site-packages (from unstructured) (4.9.1)\n",
      "Requirement already satisfied: tabulate in c:\\users\\bhara\\anaconda3\\lib\\site-packages (from unstructured) (0.8.10)\n",
      "Requirement already satisfied: rapidfuzz in c:\\users\\bhara\\anaconda3\\lib\\site-packages (from unstructured) (3.6.1)\n",
      "Requirement already satisfied: requests in c:\\users\\bhara\\anaconda3\\lib\\site-packages (from unstructured) (2.28.1)\n",
      "Requirement already satisfied: soupsieve>1.2 in c:\\users\\bhara\\anaconda3\\lib\\site-packages (from beautifulsoup4->unstructured) (2.3.2.post1)\n",
      "Requirement already satisfied: typing-inspect<1,>=0.4.0 in c:\\users\\bhara\\anaconda3\\lib\\site-packages (from dataclasses-json->unstructured) (0.9.0)\n",
      "Requirement already satisfied: marshmallow<4.0.0,>=3.18.0 in c:\\users\\bhara\\anaconda3\\lib\\site-packages (from dataclasses-json->unstructured) (3.20.1)\n",
      "Requirement already satisfied: six in c:\\users\\bhara\\anaconda3\\lib\\site-packages (from langdetect->unstructured) (1.16.0)\n",
      "Requirement already satisfied: click in c:\\users\\bhara\\anaconda3\\lib\\site-packages (from nltk->unstructured) (8.0.4)\n",
      "Requirement already satisfied: joblib in c:\\users\\bhara\\anaconda3\\lib\\site-packages (from nltk->unstructured) (1.1.1)\n",
      "Requirement already satisfied: regex>=2021.8.3 in c:\\users\\bhara\\anaconda3\\lib\\site-packages (from nltk->unstructured) (2022.7.9)\n",
      "Requirement already satisfied: tqdm in c:\\users\\bhara\\anaconda3\\lib\\site-packages (from nltk->unstructured) (4.64.1)\n",
      "Requirement already satisfied: idna<4,>=2.5 in c:\\users\\bhara\\anaconda3\\lib\\site-packages (from requests->unstructured) (3.4)\n",
      "Requirement already satisfied: urllib3<1.27,>=1.21.1 in c:\\users\\bhara\\anaconda3\\lib\\site-packages (from requests->unstructured) (1.26.14)\n",
      "Requirement already satisfied: charset-normalizer<3,>=2 in c:\\users\\bhara\\anaconda3\\lib\\site-packages (from requests->unstructured) (2.1.1)\n",
      "Requirement already satisfied: certifi>=2017.4.17 in c:\\users\\bhara\\anaconda3\\lib\\site-packages (from requests->unstructured) (2023.5.7)\n",
      "Requirement already satisfied: mypy-extensions>=0.4.3 in c:\\users\\bhara\\anaconda3\\lib\\site-packages (from unstructured-client->unstructured) (0.4.3)\n",
      "Requirement already satisfied: packaging>=21.3 in c:\\users\\bhara\\anaconda3\\lib\\site-packages (from unstructured-client->unstructured) (23.2)\n",
      "Requirement already satisfied: python-dateutil>=2.8.2 in c:\\users\\bhara\\anaconda3\\lib\\site-packages (from unstructured-client->unstructured) (2.8.2)\n",
      "Requirement already satisfied: jsonpath-python>=1.0.6 in c:\\users\\bhara\\anaconda3\\lib\\site-packages (from unstructured-client->unstructured) (1.0.6)\n",
      "Requirement already satisfied: marshmallow-enum>=1.5.1 in c:\\users\\bhara\\anaconda3\\lib\\site-packages (from unstructured-client->unstructured) (1.5.1)\n",
      "Requirement already satisfied: pyparsing>=3.0.9 in c:\\users\\bhara\\anaconda3\\lib\\site-packages (from unstructured-client->unstructured) (3.0.9)\n",
      "Requirement already satisfied: colorama in c:\\users\\bhara\\anaconda3\\lib\\site-packages (from click->nltk->unstructured) (0.4.6)\n"
     ]
    }
   ],
   "source": [
    "#installing necessary libraries, libmagic is used for file type detection\n",
    "!pip3 install unstructured libmagic python-magic python-magic-bin"
   ]
  },
  {
   "cell_type": "code",
   "execution_count": 77,
   "id": "158c198d",
   "metadata": {},
   "outputs": [],
   "source": [
    "from langchain.document_loaders import UnstructuredURLLoader"
   ]
  },
  {
   "cell_type": "code",
   "execution_count": 78,
   "id": "000c8896",
   "metadata": {},
   "outputs": [],
   "source": [
    "loader = UnstructuredURLLoader(\n",
    "    urls = [\n",
    "        \"https://www.moneycontrol.com/news/technology/fireside-ventures-tasted-success-with-mamaearth-ipo-heres-its-recipe-for-ipo-able-startups-11958581.html\",\n",
    "        \"https://www.businesstoday.in/markets/ipo-corner/story/mamaearth-ipo-analysts-cautious-on-honasa-consumer-shares-post-listing-heres-what-you-can-do-now-404893-2023-11-07\",\n",
    "        \"https://www.livemint.com/opinion/online-views/honasa-consumer-ltd-s-ipo-had-lessons-for-investors-11700578675084.html\",]\n",
    ")"
   ]
  },
  {
   "cell_type": "code",
   "execution_count": 79,
   "id": "5bc88fb0",
   "metadata": {},
   "outputs": [
    {
     "name": "stderr",
     "output_type": "stream",
     "text": [
      "libmagic is unavailable but assists in filetype detection on file-like objects. Please consider installing libmagic for better results.\n",
      "Error fetching or processing https://www.moneycontrol.com/news/technology/fireside-ventures-tasted-success-with-mamaearth-ipo-heres-its-recipe-for-ipo-able-startups-11958581.html, exception: Invalid file. The FileType.UNK file type is not supported in partition.\n",
      "libmagic is unavailable but assists in filetype detection on file-like objects. Please consider installing libmagic for better results.\n",
      "Error fetching or processing https://www.businesstoday.in/markets/ipo-corner/story/mamaearth-ipo-analysts-cautious-on-honasa-consumer-shares-post-listing-heres-what-you-can-do-now-404893-2023-11-07, exception: Invalid file. The FileType.UNK file type is not supported in partition.\n",
      "libmagic is unavailable but assists in filetype detection on file-like objects. Please consider installing libmagic for better results.\n",
      "Error fetching or processing https://www.livemint.com/opinion/online-views/honasa-consumer-ltd-s-ipo-had-lessons-for-investors-11700578675084.html, exception: Invalid file. The FileType.UNK file type is not supported in partition.\n"
     ]
    },
    {
     "data": {
      "text/plain": [
       "0"
      ]
     },
     "execution_count": 79,
     "metadata": {},
     "output_type": "execute_result"
    }
   ],
   "source": [
    "data = loader.load()\n",
    "len(data)"
   ]
  },
  {
   "cell_type": "code",
   "execution_count": 80,
   "id": "9db75cab",
   "metadata": {},
   "outputs": [
    {
     "data": {
      "text/plain": [
       "[]"
      ]
     },
     "execution_count": 80,
     "metadata": {},
     "output_type": "execute_result"
    }
   ],
   "source": [
    "data"
   ]
  },
  {
   "cell_type": "code",
   "execution_count": 81,
   "id": "2f2dfbd3",
   "metadata": {},
   "outputs": [
    {
     "data": {
      "text/plain": [
       "'C:\\\\Users\\\\bhara'"
      ]
     },
     "execution_count": 81,
     "metadata": {},
     "output_type": "execute_result"
    }
   ],
   "source": [
    "%pwd"
   ]
  },
  {
   "cell_type": "code",
   "execution_count": 1,
   "id": "9b6f3e45",
   "metadata": {},
   "outputs": [],
   "source": [
    "#checking some changes"
   ]
  },
  {
   "cell_type": "code",
   "execution_count": null,
   "id": "c5e9c710",
   "metadata": {},
   "outputs": [],
   "source": []
  }
 ],
 "metadata": {
  "kernelspec": {
   "display_name": "Python 3 (ipykernel)",
   "language": "python",
   "name": "python3"
  },
  "language_info": {
   "codemirror_mode": {
    "name": "ipython",
    "version": 3
   },
   "file_extension": ".py",
   "mimetype": "text/x-python",
   "name": "python",
   "nbconvert_exporter": "python",
   "pygments_lexer": "ipython3",
   "version": "3.10.9"
  }
 },
 "nbformat": 4,
 "nbformat_minor": 5
}
